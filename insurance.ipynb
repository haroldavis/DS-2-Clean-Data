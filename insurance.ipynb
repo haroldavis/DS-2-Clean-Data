{
 "cells": [
  {
   "cell_type": "markdown",
   "metadata": {},
   "source": [
    "#Data clean - Second part\n",
    "\n",
    "##For this case, i have clean data in general, i will work with the variables(columns), i will see relations between them and will modificate the variables if it´s necesary \n",
    "##My dataset is about insurance "
   ]
  },
  {
   "cell_type": "code",
   "execution_count": 4,
   "metadata": {},
   "outputs": [],
   "source": [
    "#Import libraries\n",
    "import pandas as pd\n",
    "import numpy as np\n",
    "import matplotlib.pyplot as plt\n",
    "import seaborn as sns\n",
    "from sklearn.preprocessing import LabelEncoder, MinMaxScaler, OrdinalEncoder"
   ]
  },
  {
   "cell_type": "markdown",
   "metadata": {},
   "source": [
    "##Overview of my dataset"
   ]
  },
  {
   "cell_type": "code",
   "execution_count": null,
   "metadata": {},
   "outputs": [],
   "source": [
    "df_insurance = pd.read_csv('./data/dataset_seguros_sin_nulos.csv')\n",
    "df_insurance"
   ]
  },
  {
   "cell_type": "code",
   "execution_count": 6,
   "metadata": {},
   "outputs": [
    {
     "name": "stdout",
     "output_type": "stream",
     "text": [
      "<class 'pandas.core.frame.DataFrame'>\n",
      "RangeIndex: 1338 entries, 0 to 1337\n",
      "Data columns (total 10 columns):\n",
      " #   Column            Non-Null Count  Dtype  \n",
      "---  ------            --------------  -----  \n",
      " 0   EDAD              1338 non-null   int64  \n",
      " 1   SEXO              1338 non-null   object \n",
      " 2   IMC               1338 non-null   float64\n",
      " 3   PESO              1338 non-null   int64  \n",
      " 4   HIJOS             1338 non-null   int64  \n",
      " 5   CIUDAD            1338 non-null   object \n",
      " 6   PRECIO            1338 non-null   int64  \n",
      " 7   INGRESO_SALARIAL  1338 non-null   object \n",
      " 8   FUMADOR           1338 non-null   bool   \n",
      " 9   TIPO_COCHE        1338 non-null   object \n",
      "dtypes: bool(1), float64(1), int64(4), object(4)\n",
      "memory usage: 95.5+ KB\n"
     ]
    }
   ],
   "source": [
    "\n",
    "df_insurance.info()"
   ]
  },
  {
   "cell_type": "code",
   "execution_count": 7,
   "metadata": {},
   "outputs": [
    {
     "data": {
      "text/html": [
       "<div>\n",
       "<style scoped>\n",
       "    .dataframe tbody tr th:only-of-type {\n",
       "        vertical-align: middle;\n",
       "    }\n",
       "\n",
       "    .dataframe tbody tr th {\n",
       "        vertical-align: top;\n",
       "    }\n",
       "\n",
       "    .dataframe thead th {\n",
       "        text-align: right;\n",
       "    }\n",
       "</style>\n",
       "<table border=\"1\" class=\"dataframe\">\n",
       "  <thead>\n",
       "    <tr style=\"text-align: right;\">\n",
       "      <th></th>\n",
       "      <th>EDAD</th>\n",
       "      <th>SEXO</th>\n",
       "      <th>IMC</th>\n",
       "      <th>PESO</th>\n",
       "      <th>HIJOS</th>\n",
       "      <th>CIUDAD</th>\n",
       "      <th>PRECIO</th>\n",
       "      <th>INGRESO_SALARIAL</th>\n",
       "      <th>FUMADOR</th>\n",
       "      <th>TIPO_COCHE</th>\n",
       "    </tr>\n",
       "  </thead>\n",
       "  <tbody>\n",
       "    <tr>\n",
       "      <th>0</th>\n",
       "      <td>37</td>\n",
       "      <td>MASCULINO</td>\n",
       "      <td>29.830</td>\n",
       "      <td>80</td>\n",
       "      <td>2</td>\n",
       "      <td>BARCELONA</td>\n",
       "      <td>534</td>\n",
       "      <td>ALTO</td>\n",
       "      <td>False</td>\n",
       "      <td>AUDI</td>\n",
       "    </tr>\n",
       "    <tr>\n",
       "      <th>1</th>\n",
       "      <td>25</td>\n",
       "      <td>MASCULINO</td>\n",
       "      <td>26.220</td>\n",
       "      <td>71</td>\n",
       "      <td>0</td>\n",
       "      <td>BARCELONA</td>\n",
       "      <td>227</td>\n",
       "      <td>MEDIO</td>\n",
       "      <td>False</td>\n",
       "      <td>AUDI</td>\n",
       "    </tr>\n",
       "    <tr>\n",
       "      <th>2</th>\n",
       "      <td>52</td>\n",
       "      <td>FEMENINO</td>\n",
       "      <td>30.780</td>\n",
       "      <td>83</td>\n",
       "      <td>1</td>\n",
       "      <td>BARCELONA</td>\n",
       "      <td>900</td>\n",
       "      <td>ALTO</td>\n",
       "      <td>False</td>\n",
       "      <td>SIN COCHE</td>\n",
       "    </tr>\n",
       "    <tr>\n",
       "      <th>3</th>\n",
       "      <td>23</td>\n",
       "      <td>MASCULINO</td>\n",
       "      <td>23.845</td>\n",
       "      <td>64</td>\n",
       "      <td>0</td>\n",
       "      <td>BARCELONA</td>\n",
       "      <td>200</td>\n",
       "      <td>BAJO</td>\n",
       "      <td>False</td>\n",
       "      <td>TOYOTA</td>\n",
       "    </tr>\n",
       "    <tr>\n",
       "      <th>4</th>\n",
       "      <td>60</td>\n",
       "      <td>FEMENINO</td>\n",
       "      <td>36.005</td>\n",
       "      <td>97</td>\n",
       "      <td>0</td>\n",
       "      <td>BARCELONA</td>\n",
       "      <td>1102</td>\n",
       "      <td>MEDIO</td>\n",
       "      <td>False</td>\n",
       "      <td>AUDI</td>\n",
       "    </tr>\n",
       "  </tbody>\n",
       "</table>\n",
       "</div>"
      ],
      "text/plain": [
       "   EDAD       SEXO     IMC  PESO  HIJOS     CIUDAD  PRECIO INGRESO_SALARIAL  \\\n",
       "0    37  MASCULINO  29.830    80      2  BARCELONA     534             ALTO   \n",
       "1    25  MASCULINO  26.220    71      0  BARCELONA     227            MEDIO   \n",
       "2    52   FEMENINO  30.780    83      1  BARCELONA     900             ALTO   \n",
       "3    23  MASCULINO  23.845    64      0  BARCELONA     200             BAJO   \n",
       "4    60   FEMENINO  36.005    97      0  BARCELONA    1102            MEDIO   \n",
       "\n",
       "   FUMADOR TIPO_COCHE  \n",
       "0    False       AUDI  \n",
       "1    False       AUDI  \n",
       "2    False  SIN COCHE  \n",
       "3    False     TOYOTA  \n",
       "4    False       AUDI  "
      ]
     },
     "execution_count": 7,
     "metadata": {},
     "output_type": "execute_result"
    }
   ],
   "source": [
    "df_insurance.head()"
   ]
  },
  {
   "cell_type": "code",
   "execution_count": 8,
   "metadata": {},
   "outputs": [
    {
     "name": "stdout",
     "output_type": "stream",
     "text": [
      "\n",
      " EDAD [37 25 52 23 60 34 63 18 35 24 38 58 43 31 22 45 59 56 30 44 26 61 20 32\n",
      " 42 40 47 27 41 36 64 28 53 33 29 50 55 49 54 46 57 48 39 21 62 51 19]\n",
      "\n",
      " SEXO ['MASCULINO' 'FEMENINO']\n",
      "\n",
      " IMC [29.83  26.22  30.78  23.845 36.005 31.92  23.085 26.315 36.67  26.6\n",
      " 37.05  38.665 35.625 31.825 27.36  28.5   39.805 26.885 38.285 19.95\n",
      " 25.46  30.115 32.205 28.595 23.75  31.35  28.785 26.505 22.04  22.42\n",
      " 32.49  37.145 23.37  25.175 28.215 18.905 15.96  33.155 41.895 39.33\n",
      " 28.88  27.74  41.23  33.25  31.635 22.135 28.975 17.29  25.365 24.32\n",
      " 32.395 25.84  27.455 28.12  40.565 27.645 48.07  36.765 29.64  22.99\n",
      " 27.55  22.61  34.865 32.775 37.335 40.945 34.105 36.385 35.72  32.3\n",
      " 33.345 35.245 30.4   22.23  24.89  17.955 30.685 31.445 38.38  20.235\n",
      " 17.195 30.59  27.265 31.73  16.815 29.45  38.095 25.935 31.065 25.08\n",
      " 27.93  26.03  25.27  32.11  30.875 33.915 39.425 28.025 35.435 41.325\n",
      " 33.44  32.68  36.86  34.295 23.465 35.91  21.85  33.725 26.98  19.\n",
      " 33.535 22.705 38.19  26.41  31.54  32.015 31.16  26.125 44.745 30.495\n",
      " 40.47  40.66  27.075 21.755 40.28  33.63  22.8   37.43  34.58  36.48\n",
      " 36.955 22.515 23.18  22.895 24.795 28.31  24.7   35.53  19.855 23.655\n",
      " 24.035 20.045 29.355 32.585 29.735 40.185 34.2   18.335 34.96  25.745\n",
      " 23.56  39.995 21.375 34.675 20.52  27.835 23.275 36.29  19.19  29.26\n",
      " 24.985 21.565 42.655 19.095 24.51  42.75  30.305 25.555 21.47  39.14\n",
      " 21.945 23.94  21.66  29.925 24.605 39.71  26.695 32.87  24.225 17.385\n",
      " 20.425 32.965 34.77  28.69  34.01  17.765 24.13  39.52  18.05  36.195\n",
      " 29.07  30.02  24.415 20.615 34.39  33.06  21.09  30.21  17.48  35.15\n",
      " 25.65  33.82  27.17  19.57  37.525 38.95  29.545 28.405 37.905 19.475\n",
      " 35.815 41.42  36.575 42.94  17.67  31.255 26.79  39.615 18.715 40.375\n",
      " 17.86  34.485 21.28  37.715 30.97  33.77  33.    25.74  26.29  39.82\n",
      " 42.13  34.1   27.72  36.63  21.78  30.8   24.53  35.2   34.43  31.68\n",
      " 22.88  33.66  36.19  23.98  24.75  32.01  29.59  37.62  39.49  38.28\n",
      " 29.92  27.94  35.09  49.06  28.05  31.9   25.3   38.83  37.73  29.7\n",
      " 24.42  27.83  36.85  41.47  30.69  31.57  28.6   32.23  36.08  26.4\n",
      " 26.73  23.1   23.21  24.64  33.88  38.06  41.91  22.22  38.39  35.86\n",
      " 34.21  40.15  26.84  42.35  19.8   29.37  31.79  21.56  26.62  45.54\n",
      " 28.82  25.41  37.51  33.33  35.97  35.75  43.89  20.79  21.89  31.46\n",
      " 43.34  39.05  31.02  38.17  47.52  24.31  21.12  30.03  35.64  39.16\n",
      " 33.11  46.75  43.01  36.52  46.53  30.14  28.38  24.09  32.67  32.56\n",
      " 30.25  28.93  35.31  44.22  26.07  40.48  36.3   47.41  46.2   44.77\n",
      " 32.12  37.29  43.12  45.43  23.65  28.27  31.13  40.26  29.48  42.46\n",
      " 42.68  39.6   29.81  40.81  41.69  39.27  34.87  23.54  29.15  22.77\n",
      " 34.32  41.14  41.8   20.9   26.18  42.24  26.51  21.01  32.78  32.45\n",
      " 50.38  24.86  29.04  38.94  40.92  32.34  33.99  37.18  46.09  39.93\n",
      " 42.9   28.16  35.42  20.13  23.32  45.32  37.07  52.58  47.74  31.24\n",
      " 20.35  25.85  23.87  44.88  40.37  28.49  33.55  27.28  24.97  36.96\n",
      " 23.76  25.52  27.61  27.06  30.36  53.13  27.9   34.4   24.6   40.3\n",
      " 35.3   32.4   35.6   36.4   20.8   39.9   37.3   28.    28.9   39.1\n",
      " 28.1   27.4   34.8   27.2   31.3   19.3   31.6   27.5   28.4   37.1\n",
      " 28.3   37.4   34.7   35.9   36.    29.8   37.    30.3   37.7   29.2\n",
      " 30.9   32.2   26.2   32.8   22.3   31.8   33.7   17.8   26.8   25.2\n",
      " 30.2   24.3   31.2   33.4   27.7   38.    31.4   33.8   36.7   34.5\n",
      " 27.6   25.6   30.5   21.7   32.9   20.6   20.4   23.6   23.9   22.6\n",
      " 33.1   26.9   33.5   29.6   38.6   23.4   30.    28.7   25.1   39.5\n",
      " 34.3   43.4   25.7   39.2   35.7   31.    25.8   38.9   46.7   21.4\n",
      " 23.8   29.1   20.7   29.    32.6   37.8   21.3   36.1   29.3   39.7\n",
      " 42.4   17.4   20.3   18.5   24.1   36.2   36.6   35.4   30.1   32.1\n",
      " 23.7   35.5   27.    27.1   26.7   24.4   31.5   31.1   47.6   25.4\n",
      " 29.9   43.7   28.8   29.5   44.    35.1   39.8   28.2   25.    33.2\n",
      " 23.2   20.1   32.5   35.8   25.9   40.5   32.7   34.6   23.    32.\n",
      " 18.3   22.1   18.6   45.9   21.5   41.1   33.3   21.8   23.3   29.4\n",
      " 27.3   37.9   39.4   34.9   22.    27.8   44.7  ]\n",
      "\n",
      " PESO [ 80  71  83  64  97  86  62  99  72 100 104  96  74  77 107 103  54  68\n",
      "  81  87  84  59  60  63  76  51  43  89 113 106  78  75 111  85  47  65\n",
      "  69 109 129  61  94  88 110  92  98  90  95  82  67  48  46  73  45  79\n",
      " 102  70  91 120 101  93  66  53 108  49  57  55  52  58 115 105  50 132\n",
      " 112 114 122 118  56 117 128 126 116 125 119 124 136 141 121 143 123]\n",
      "\n",
      " HIJOS [2 0 1 3 5 4]\n",
      "\n",
      " CIUDAD ['BARCELONA' 'SEVILLA' 'MADRID' 'VALENCIA']\n",
      "\n",
      " PRECIO [ 534  227  900  200 1102 3142 1204  183 3315  254  507  283  184 1134\n",
      "  717  567  230  370  661 2515 1868  304 1779  957 2522  142 3296  282\n",
      " 1068 1135  205 2281  291  528 1664  590 1293  867  402  141  712  334\n",
      " 3646 1242  361 1749  551  880  613  769 3209  446 2460  337 1069 3425\n",
      " 1087 2072 1216  774  801  810 1861 4046  353  990  786 3991 1690  562\n",
      " 2073  995  870  389 2056  964  550 4043  972 1595 3493 1101 1165  695\n",
      " 1034  837  815 1119  290 1002  637 1805 1251 3525  692  895  747  784\n",
      "  950 1633 1205 3260  546  610  264  188  241 1061 1269  930 1941 1740\n",
      " 2929  362  164  570  980  780  321 2138  822 1170  506  272  268 1490\n",
      "  910 2635 4881  267 1076  322 1136 1280  735  466  297  563 2885  598\n",
      " 1201 2076 1679 1095  845  688  143 1036 2199 1200  429 3809  329  937\n",
      "  644  175 2432  795  509  456  165  823  842 1388  185  787 3016 3605\n",
      " 1427  419  665  452  327  256  758 1066  621 1062  434  228  393 1492\n",
      "  276  369 1950 1339 1731 3300  971 1027  839 3106 3509  977 2009  455\n",
      " 1094  741  215 3855 2268  869 1130 1650  724  388  380  404 2811 2922\n",
      " 2111 2676 3254  961 3420  792  273  416 1345  809 2126  375 1400  410\n",
      "  377 1214  595  666  719 1937  830  573  345 1146 2790  480 1008 1100\n",
      "  941 3720 1920 1398  959 1575 3409 1726  602  436 1432  242  638 1814\n",
      " 1144 1085 1691 1074  572  553  582 3134 1554  850  379  864 2855 1872\n",
      " 1190  711  311  594  994 1772 1343  939 1625 2342  588 1866 1832  607\n",
      " 2410  517 1022  231 1148  135 1301  296  298  672 3958  499 2514  344\n",
      " 1226  532  946  548  919 1758 3632  669  924  912  477 1463  323  902\n",
      "  557  843 2728  136  170 1513 1729 3393  913  427  579  511  238  538\n",
      "  978  618 1004  137  804  178 1084  680  295  863  620  559 1446 2040\n",
      " 3660  960 2813 3018  605  210  234 1188 3229  771 1620  646  736  408\n",
      " 3563 2033 1161 1113  986  802  668  676 1118 1503 1371 2524  265  385\n",
      "  627 1224  856 2413 1567  409  354  395 2176  955  336  147  987 1054\n",
      " 2406  211 1296 1040  872  566  220  701 2005  853 1984  932 3332  766\n",
      "  177  531 1019 3662  702 2789  765 1456 2140 1011 3582  226 2732  372\n",
      "  510  338 3334 3844  846  197  196  915  449  744  855  693  797 1093\n",
      "  904  555  799  826  255  159 1184  578 1479  160  601 1526 2373  530\n",
      "  237 4595  223 1044  439  979  448 1052  883 1177 1318  224  232  406\n",
      " 2444  176 1199  438 1815  360 1667 1051 2372 2206 1997 2362 1368 1447\n",
      "  730 1010 1041 2168 1800 1806 1079 3310 1874 1686 1823  300  279 1196\n",
      "  371  488 1252 2826  749  874  443  474 3888  833 1639 3075 1020  469\n",
      "  918 1202  596 1991 3122 1154  444  723 1570 2776  533  728  171  426\n",
      "  330  628 5002  225  358  953  942 2505  274  252  363  349 2045  775\n",
      " 3893 1789  381 1564  600 2428  144  313  687 2317 3301   95 1167  412\n",
      "  523  526 3226 3145 2859  493 1472 1381  996  128 3097  169  314  852\n",
      " 2579  239 3921  948 1592  180 2277 1581  428  649 1769 3079 1646 3012\n",
      " 1117  332 1046  710  739 3094  417  207 2090 1626  999 2019  166 3688\n",
      "  450 1424 1705 3846 1077  821  645 2166  346 3510  677 1012  686  515\n",
      "  407  457 1178  745  153  134  116 3177 2250 1732  487  988 1382  674\n",
      "  554  340  612  762 3907 3883  816 1160 1049   96 2357  391  640  865\n",
      " 1627  208  152 4074 2043  684 1852 2712  498 2310  333 3187 4056 1601\n",
      " 1153 2279 1157 5314 3822  331  328  755  233  396  139 1469  398  214\n",
      "  476 1340  157 3581 2870  944  281  817  882  690  536 1849 2253 3547\n",
      "  542  403  367 3850  453 2901 3356  292  168 3700 3411  565 1613 3368\n",
      " 1521 1628 1922 3026  495  782 1121  472 1766  356  587 1193 3233  151\n",
      "   94  465  156  685 3651  597 3002 2294 3751  203 3415 1518  497 1643\n",
      "  604 3684  636  206  437 1123  524  244  192  791   93  796 1082 3955\n",
      " 3500 1206  716  892  194  650 3048 2966 3518  714 3702 3124 3708 1494\n",
      "  963 4081  748  911 3323 2889 1263  812 3473  140  269  289  947  862\n",
      " 3496 2015  901 3010 3190  696  486  715  309  754 2260 3412 1580 1527\n",
      "  475 1519 1964  451  549  704 2177  400  270 3939 4131  368  564 2244\n",
      " 1207 1420  126 5216   97 3658  781 1407  884 3070 2965 4266 4014 1719\n",
      "  145 1186 3320  923 3941 1009  516  387 1423  803  105  181  154  871\n",
      " 4069  471  614  418 2898 1028 2930 3942  355 3571  179  326 1358 1681\n",
      " 2903 2958 3994 1152 2050  216 3007 1249  772  423 1551 1924 1053  494\n",
      " 3090  397  626 1816 1845 2115  104  146 1048 1495  411 1757  962 1116\n",
      " 1080 3270 1942  893  305 3349  840  783  556  284  725 1030 3342 2186\n",
      " 3715  713  201 1587 2328  929 1522  535  785  127  248  914 3843  732\n",
      "  965  366  705  571 2178  287 1089 1264 1458 1122  521  243 1003  520\n",
      "  841  973 1661 3250 1600  635 2873  689  733  263 3311 2109 1585  881\n",
      "  299  938 1702 2847  851 1197  308  663 4383  899 1873  541  219 3076\n",
      " 3201 1029 3472  945  468  505  103 1353 1319  540  611  718 3950 3195\n",
      " 2902 3152 2825  378 3033  860  951  167]\n",
      "\n",
      " INGRESO_SALARIAL ['ALTO' 'MEDIO' 'BAJO']\n",
      "\n",
      " FUMADOR [False  True]\n",
      "\n",
      " TIPO_COCHE ['AUDI' 'SIN COCHE' 'TOYOTA' 'KIA' 'SEAT' 'FIAT']\n"
     ]
    }
   ],
   "source": [
    "#I see the values inside each variable \n",
    "for i in df_insurance:\n",
    "  print('\\n', i, df_insurance[i].unique())"
   ]
  },
  {
   "cell_type": "markdown",
   "metadata": {},
   "source": [
    "##My objective is leave my variables in numeric format"
   ]
  },
  {
   "cell_type": "markdown",
   "metadata": {},
   "source": [
    "##For the **FUMADOR** column, i will change False/True by 0/1. I do a copy"
   ]
  },
  {
   "cell_type": "code",
   "execution_count": 17,
   "metadata": {},
   "outputs": [],
   "source": [
    "df_insurance2= df_insurance.copy()"
   ]
  },
  {
   "cell_type": "code",
   "execution_count": 18,
   "metadata": {},
   "outputs": [],
   "source": [
    "df_insurance2['FUMADOR_INT'] = df_insurance2['FUMADOR'].astype(int)"
   ]
  },
  {
   "cell_type": "markdown",
   "metadata": {},
   "source": [
    "##For the **SEXO** column, i will change Masculino/Femenino by 0/1."
   ]
  },
  {
   "cell_type": "code",
   "execution_count": 19,
   "metadata": {},
   "outputs": [],
   "source": [
    "df_insurance2['SEXO'] = np.where(df_insurance2['SEXO']=='FEMENINO',0,1)"
   ]
  },
  {
   "cell_type": "code",
   "execution_count": 20,
   "metadata": {},
   "outputs": [
    {
     "data": {
      "text/html": [
       "<div>\n",
       "<style scoped>\n",
       "    .dataframe tbody tr th:only-of-type {\n",
       "        vertical-align: middle;\n",
       "    }\n",
       "\n",
       "    .dataframe tbody tr th {\n",
       "        vertical-align: top;\n",
       "    }\n",
       "\n",
       "    .dataframe thead th {\n",
       "        text-align: right;\n",
       "    }\n",
       "</style>\n",
       "<table border=\"1\" class=\"dataframe\">\n",
       "  <thead>\n",
       "    <tr style=\"text-align: right;\">\n",
       "      <th></th>\n",
       "      <th>EDAD</th>\n",
       "      <th>SEXO</th>\n",
       "      <th>IMC</th>\n",
       "      <th>PESO</th>\n",
       "      <th>HIJOS</th>\n",
       "      <th>CIUDAD</th>\n",
       "      <th>PRECIO</th>\n",
       "      <th>INGRESO_SALARIAL</th>\n",
       "      <th>FUMADOR</th>\n",
       "      <th>TIPO_COCHE</th>\n",
       "      <th>FUMADOR_INT</th>\n",
       "    </tr>\n",
       "  </thead>\n",
       "  <tbody>\n",
       "    <tr>\n",
       "      <th>0</th>\n",
       "      <td>37</td>\n",
       "      <td>1</td>\n",
       "      <td>29.83</td>\n",
       "      <td>80</td>\n",
       "      <td>2</td>\n",
       "      <td>BARCELONA</td>\n",
       "      <td>534</td>\n",
       "      <td>ALTO</td>\n",
       "      <td>False</td>\n",
       "      <td>AUDI</td>\n",
       "      <td>0</td>\n",
       "    </tr>\n",
       "  </tbody>\n",
       "</table>\n",
       "</div>"
      ],
      "text/plain": [
       "   EDAD  SEXO    IMC  PESO  HIJOS     CIUDAD  PRECIO INGRESO_SALARIAL  \\\n",
       "0    37     1  29.83    80      2  BARCELONA     534             ALTO   \n",
       "\n",
       "   FUMADOR TIPO_COCHE  FUMADOR_INT  \n",
       "0    False       AUDI            0  "
      ]
     },
     "execution_count": 20,
     "metadata": {},
     "output_type": "execute_result"
    }
   ],
   "source": [
    "df_insurance2.head(1)"
   ]
  },
  {
   "cell_type": "code",
   "execution_count": 30,
   "metadata": {},
   "outputs": [],
   "source": [
    "target=['PRECIO']\n",
    "def get_list_var(dataset):\n",
    "    list_numbers=[]\n",
    "    list_booleans=[]\n",
    "    list_categories=[]\n",
    "\n",
    "    for i in dataset:\n",
    "      if (i not in target) and (dataset[i].dtype.kind == 'i' or dataset[i].dtype.kind == 'f') :\n",
    "        list_numbers.append(i)\n",
    "      elif (i not in target) and (dataset[i].dtype.kind == 'b'):\n",
    "        list_booleans.append(i)\n",
    "      elif (dataset[i].dtype.kind != 'o' and (i not in target)):\n",
    "        list_categories.append(i)\n",
    "\n",
    "    return list_numbers, list_booleans, list_categories"
   ]
  },
  {
   "cell_type": "code",
   "execution_count": 31,
   "metadata": {},
   "outputs": [],
   "source": [
    "l_num, l_bool, l_cat = get_list_var(df_insurance2)"
   ]
  },
  {
   "cell_type": "code",
   "execution_count": 34,
   "metadata": {},
   "outputs": [
    {
     "data": {
      "text/plain": [
       "['EDAD', 'SEXO', 'IMC', 'PESO', 'HIJOS', 'FUMADOR_INT']"
      ]
     },
     "execution_count": 34,
     "metadata": {},
     "output_type": "execute_result"
    }
   ],
   "source": [
    "l_num"
   ]
  },
  {
   "cell_type": "code",
   "execution_count": 36,
   "metadata": {},
   "outputs": [
    {
     "data": {
      "image/png": "[encoded data removed]",
      "text/plain": [
       "<Figure size 640x480 with 1 Axes>"
      ]
     },
     "metadata": {},
     "output_type": "display_data"
    },
    {
     "data": {
      "image/png": "[encoded data removed]",
      "text/plain": [
       "<Figure size 640x480 with 1 Axes>"
      ]
     },
     "metadata": {},
     "output_type": "display_data"
    },
    {
     "data": {
      "image/png": "[encoded data removed]",
      "text/plain": [
       "<Figure size 640x480 with 1 Axes>"
      ]
     },
     "metadata": {},
     "output_type": "display_data"
    },
    {
     "data": {
      "image/png": "[encoded data removed]",
      "text/plain": [
       "<Figure size 640x480 with 1 Axes>"
      ]
     },
     "metadata": {},
     "output_type": "display_data"
    },
    {
     "data": {
      "image/png": "[encoded data removed]",
      "text/plain": [
       "<Figure size 640x480 with 1 Axes>"
      ]
     },
     "metadata": {},
     "output_type": "display_data"
    },
    {
     "data": {
      "image/png": "[encoded data removed]",
      "text/plain": [
       "<Figure size 640x480 with 1 Axes>"
      ]
     },
     "metadata": {},
     "output_type": "display_data"
    }
   ],
   "source": [
    "#df_insurance2.info()\n",
    "#For my numerics variables, i do histograms\n",
    "for i in l_num:\n",
    "    df_insurance2.hist(i)"
   ]
  },
  {
   "cell_type": "code",
   "execution_count": 37,
   "metadata": {},
   "outputs": [],
   "source": [
    "#i do a copy for do to correlation with \"corr\"\n",
    "df_insurance3 = df_insurance2.copy()"
   ]
  },
  {
   "cell_type": "code",
   "execution_count": null,
   "metadata": {},
   "outputs": [],
   "source": []
  }
 ],
 "metadata": {
  "kernelspec": {
   "display_name": "Python 3",
   "language": "python",
   "name": "python3"
  },
  "language_info": {
   "codemirror_mode": {
    "name": "ipython",
    "version": 3
   },
   "file_extension": ".py",
   "mimetype": "text/x-python",
   "name": "python",
   "nbconvert_exporter": "python",
   "pygments_lexer": "ipython3",
   "version": "3.9.0"
  }
 },
 "nbformat": 4,
 "nbformat_minor": 2
}
